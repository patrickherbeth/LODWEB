{
  "nbformat": 4,
  "nbformat_minor": 0,
  "metadata": {
    "colab": {
      "name": "BPI_Challenge_2017",
      "provenance": [],
      "collapsed_sections": [],
      "toc_visible": true,
      "include_colab_link": true
    },
    "kernelspec": {
      "name": "python3",
      "display_name": "Python 3"
    }
  },
  "cells": [
    {
      "cell_type": "markdown",
      "metadata": {
        "id": "view-in-github",
        "colab_type": "text"
      },
      "source": [
        "<a href=\"https://colab.research.google.com/github/patrickherbeth/LODWEB/blob/master/BPI_Challenge_2017.ipynb\" target=\"_parent\"><img src=\"https://colab.research.google.com/assets/colab-badge.svg\" alt=\"Open In Colab\"/></a>"
      ]
    },
    {
      "cell_type": "markdown",
      "metadata": {
        "id": "bp9rDMTXnslg",
        "colab_type": "text"
      },
      "source": [
        "# Sobre o conjunto de dados\n",
        "\n",
        "\n",
        "---\n",
        "\n",
        "\n",
        "Este registro de eventos pertence a um processo de solicitação de empréstimo de um instituto financeiro holandês. Os dados contemplam todos os pedidos protocolados em sistema online no ano de 2016 e seus eventos subsequentes até 1º de fevereiro de 2017, 15h11. A empresa que fornece os dados e o processo em consideração é a mesma que doi: 10.4121 / uuid: 3926db30-f712-4394-aebc-75976070e91f. No entanto, o sistema de suporte do processo mudou nesse meio tempo. Em particular, o sistema agora permite várias ofertas por aplicativo. Essas ofertas podem ser rastreadas por meio de seus IDs no log."
      ]
    },
    {
      "cell_type": "markdown",
      "metadata": {
        "id": "DKuIujYbn-gi",
        "colab_type": "text"
      },
      "source": [
        "Os dados são fornecidos em dois arquivos:\n",
        "\n",
        "O log de eventos do aplicativo. Este log de eventos contém todos os eventos com o aplicativo como o ID do caso. Qualquer evento relacionado a uma oferta também se refere a um OfferID.\n",
        "\n",
        "O log de eventos da oferta. Este log de eventos contém todos os eventos relacionados a ofertas, com essas ofertas como ID de caso. Para cada oferta, um aplicativo correspondente está disponível."
      ]
    },
    {
      "cell_type": "markdown",
      "metadata": {
        "id": "lJ2EzcVOoIbl",
        "colab_type": "text"
      },
      "source": [
        "#Análise\n",
        "\n",
        "**Importando bibliotecas**"
      ]
    },
    {
      "cell_type": "code",
      "metadata": {
        "id": "fKoKaDZjohiF",
        "colab_type": "code",
        "colab": {
          "base_uri": "https://localhost:8080/",
          "height": 74
        },
        "outputId": "5c1d9ea8-96d4-4430-a387-c74682b6773c"
      },
      "source": [
        "import pandas as pd\n",
        "import numpy as np\n",
        "import matplotlib.pyplot as plt\n",
        "import seaborn as sns\n",
        "import calendar\n",
        "from google.colab import drive\n",
        "\n",
        "%matplotlib inline\n",
        "\n",
        "from sklearn.model_selection import train_test_split \n",
        "from sklearn.linear_model import LinearRegression\n",
        "from sklearn.preprocessing import OneHotEncoder\n",
        "from sklearn import metrics"
      ],
      "execution_count": 2,
      "outputs": [
        {
          "output_type": "stream",
          "text": [
            "/usr/local/lib/python3.6/dist-packages/statsmodels/tools/_testing.py:19: FutureWarning: pandas.util.testing is deprecated. Use the functions in the public API at pandas.testing instead.\n",
            "  import pandas.util.testing as tm\n"
          ],
          "name": "stderr"
        }
      ]
    },
    {
      "cell_type": "markdown",
      "metadata": {
        "id": "KMcK2ufspNlo",
        "colab_type": "text"
      },
      "source": [
        "**Importando dados do log de eventos do aplicativo**"
      ]
    },
    {
      "cell_type": "code",
      "metadata": {
        "id": "FnoGRBfopUUJ",
        "colab_type": "code",
        "colab": {
          "base_uri": "https://localhost:8080/",
          "height": 189
        },
        "outputId": "5c610e6c-6cfa-4fa1-8d7c-d9855c628cc1"
      },
      "source": [
        "#drive.mount('/content/drive')\n",
        "#application_df = pd.read_csv('/content/drive/My Drive/content/BPI_Challenge_2017.csv')\n",
        "\n",
        "application_df = pd.read_csv('BPI_Challenge_2017.csv')"
      ],
      "execution_count": 1,
      "outputs": [
        {
          "output_type": "error",
          "ename": "NameError",
          "evalue": "ignored",
          "traceback": [
            "\u001b[0;31m---------------------------------------------------------------------------\u001b[0m",
            "\u001b[0;31mNameError\u001b[0m                                 Traceback (most recent call last)",
            "\u001b[0;32m<ipython-input-1-ff090c627f11>\u001b[0m in \u001b[0;36m<module>\u001b[0;34m()\u001b[0m\n\u001b[0;32m----> 1\u001b[0;31m \u001b[0mdrive\u001b[0m\u001b[0;34m.\u001b[0m\u001b[0mmount\u001b[0m\u001b[0;34m(\u001b[0m\u001b[0;34m'/content/drive'\u001b[0m\u001b[0;34m)\u001b[0m\u001b[0;34m\u001b[0m\u001b[0;34m\u001b[0m\u001b[0m\n\u001b[0m\u001b[1;32m      2\u001b[0m \u001b[0mapplication_df\u001b[0m \u001b[0;34m=\u001b[0m \u001b[0mpd\u001b[0m\u001b[0;34m.\u001b[0m\u001b[0mread_csv\u001b[0m\u001b[0;34m(\u001b[0m\u001b[0;34m'/content/drive/My Drive/content/BPI_Challenge_2017.csv'\u001b[0m\u001b[0;34m)\u001b[0m\u001b[0;34m\u001b[0m\u001b[0;34m\u001b[0m\u001b[0m\n",
            "\u001b[0;31mNameError\u001b[0m: name 'drive' is not defined"
          ]
        }
      ]
    },
    {
      "cell_type": "markdown",
      "metadata": {
        "id": "ZpQSv3UJqDil",
        "colab_type": "text"
      },
      "source": [
        "**Rápida olhada nos Dados**"
      ]
    },
    {
      "cell_type": "code",
      "metadata": {
        "id": "3GfyM9h1qQgv",
        "colab_type": "code",
        "colab": {
          "base_uri": "https://localhost:8080/",
          "height": 309
        },
        "outputId": "789bf684-5fe6-4a44-fe09-c780ef35c704"
      },
      "source": [
        "application_df.head()"
      ],
      "execution_count": null,
      "outputs": [
        {
          "output_type": "execute_result",
          "data": {
            "text/html": [
              "<div>\n",
              "<style scoped>\n",
              "    .dataframe tbody tr th:only-of-type {\n",
              "        vertical-align: middle;\n",
              "    }\n",
              "\n",
              "    .dataframe tbody tr th {\n",
              "        vertical-align: top;\n",
              "    }\n",
              "\n",
              "    .dataframe thead th {\n",
              "        text-align: right;\n",
              "    }\n",
              "</style>\n",
              "<table border=\"1\" class=\"dataframe\">\n",
              "  <thead>\n",
              "    <tr style=\"text-align: right;\">\n",
              "      <th></th>\n",
              "      <th>Action</th>\n",
              "      <th>org:resource</th>\n",
              "      <th>concept:name</th>\n",
              "      <th>EventOrigin</th>\n",
              "      <th>EventID</th>\n",
              "      <th>lifecycle:transition</th>\n",
              "      <th>time:timestamp</th>\n",
              "      <th>case:LoanGoal</th>\n",
              "      <th>case:ApplicationType</th>\n",
              "      <th>case:concept:name</th>\n",
              "      <th>case:RequestedAmount</th>\n",
              "      <th>FirstWithdrawalAmount</th>\n",
              "      <th>NumberOfTerms</th>\n",
              "      <th>Accepted</th>\n",
              "      <th>MonthlyCost</th>\n",
              "      <th>Selected</th>\n",
              "      <th>CreditScore</th>\n",
              "      <th>OfferedAmount</th>\n",
              "      <th>OfferID</th>\n",
              "      <th>AcceptedLoan</th>\n",
              "    </tr>\n",
              "  </thead>\n",
              "  <tbody>\n",
              "    <tr>\n",
              "      <th>0</th>\n",
              "      <td>Created</td>\n",
              "      <td>User_1</td>\n",
              "      <td>A_Create Application</td>\n",
              "      <td>Application</td>\n",
              "      <td>Application_652823628</td>\n",
              "      <td>complete</td>\n",
              "      <td>2016-01-01 09:51:15.304000+00:00</td>\n",
              "      <td>Existing loan takeover</td>\n",
              "      <td>New credit</td>\n",
              "      <td>Application_652823628</td>\n",
              "      <td>20000.0</td>\n",
              "      <td>NaN</td>\n",
              "      <td>NaN</td>\n",
              "      <td>NaN</td>\n",
              "      <td>NaN</td>\n",
              "      <td>NaN</td>\n",
              "      <td>NaN</td>\n",
              "      <td>NaN</td>\n",
              "      <td>NaN</td>\n",
              "      <td>1</td>\n",
              "    </tr>\n",
              "    <tr>\n",
              "      <th>1</th>\n",
              "      <td>statechange</td>\n",
              "      <td>User_1</td>\n",
              "      <td>A_Submitted</td>\n",
              "      <td>Application</td>\n",
              "      <td>ApplState_1582051990</td>\n",
              "      <td>complete</td>\n",
              "      <td>2016-01-01 09:51:15.352000+00:00</td>\n",
              "      <td>Existing loan takeover</td>\n",
              "      <td>New credit</td>\n",
              "      <td>Application_652823628</td>\n",
              "      <td>20000.0</td>\n",
              "      <td>NaN</td>\n",
              "      <td>NaN</td>\n",
              "      <td>NaN</td>\n",
              "      <td>NaN</td>\n",
              "      <td>NaN</td>\n",
              "      <td>NaN</td>\n",
              "      <td>NaN</td>\n",
              "      <td>NaN</td>\n",
              "      <td>1</td>\n",
              "    </tr>\n",
              "    <tr>\n",
              "      <th>2</th>\n",
              "      <td>Created</td>\n",
              "      <td>User_1</td>\n",
              "      <td>W_Handle leads</td>\n",
              "      <td>Workflow</td>\n",
              "      <td>Workitem_1298499574</td>\n",
              "      <td>schedule</td>\n",
              "      <td>2016-01-01 09:51:15.774000+00:00</td>\n",
              "      <td>Existing loan takeover</td>\n",
              "      <td>New credit</td>\n",
              "      <td>Application_652823628</td>\n",
              "      <td>20000.0</td>\n",
              "      <td>NaN</td>\n",
              "      <td>NaN</td>\n",
              "      <td>NaN</td>\n",
              "      <td>NaN</td>\n",
              "      <td>NaN</td>\n",
              "      <td>NaN</td>\n",
              "      <td>NaN</td>\n",
              "      <td>NaN</td>\n",
              "      <td>1</td>\n",
              "    </tr>\n",
              "    <tr>\n",
              "      <th>3</th>\n",
              "      <td>Deleted</td>\n",
              "      <td>User_1</td>\n",
              "      <td>W_Handle leads</td>\n",
              "      <td>Workflow</td>\n",
              "      <td>Workitem_1673366067</td>\n",
              "      <td>withdraw</td>\n",
              "      <td>2016-01-01 09:52:36.392000+00:00</td>\n",
              "      <td>Existing loan takeover</td>\n",
              "      <td>New credit</td>\n",
              "      <td>Application_652823628</td>\n",
              "      <td>20000.0</td>\n",
              "      <td>NaN</td>\n",
              "      <td>NaN</td>\n",
              "      <td>NaN</td>\n",
              "      <td>NaN</td>\n",
              "      <td>NaN</td>\n",
              "      <td>NaN</td>\n",
              "      <td>NaN</td>\n",
              "      <td>NaN</td>\n",
              "      <td>1</td>\n",
              "    </tr>\n",
              "    <tr>\n",
              "      <th>4</th>\n",
              "      <td>Created</td>\n",
              "      <td>User_1</td>\n",
              "      <td>W_Complete application</td>\n",
              "      <td>Workflow</td>\n",
              "      <td>Workitem_1493664571</td>\n",
              "      <td>schedule</td>\n",
              "      <td>2016-01-01 09:52:36.403000+00:00</td>\n",
              "      <td>Existing loan takeover</td>\n",
              "      <td>New credit</td>\n",
              "      <td>Application_652823628</td>\n",
              "      <td>20000.0</td>\n",
              "      <td>NaN</td>\n",
              "      <td>NaN</td>\n",
              "      <td>NaN</td>\n",
              "      <td>NaN</td>\n",
              "      <td>NaN</td>\n",
              "      <td>NaN</td>\n",
              "      <td>NaN</td>\n",
              "      <td>NaN</td>\n",
              "      <td>1</td>\n",
              "    </tr>\n",
              "  </tbody>\n",
              "</table>\n",
              "</div>"
            ],
            "text/plain": [
              "        Action org:resource  ... OfferID AcceptedLoan\n",
              "0      Created       User_1  ...     NaN            1\n",
              "1  statechange       User_1  ...     NaN            1\n",
              "2      Created       User_1  ...     NaN            1\n",
              "3      Deleted       User_1  ...     NaN            1\n",
              "4      Created       User_1  ...     NaN            1\n",
              "\n",
              "[5 rows x 20 columns]"
            ]
          },
          "metadata": {
            "tags": []
          },
          "execution_count": 132
        }
      ]
    },
    {
      "cell_type": "markdown",
      "metadata": {
        "id": "UMaBuKjoqWHI",
        "colab_type": "text"
      },
      "source": [
        "**Tipos de Dados das colunas**"
      ]
    },
    {
      "cell_type": "code",
      "metadata": {
        "id": "8D5tvxIEqSWm",
        "colab_type": "code",
        "colab": {
          "base_uri": "https://localhost:8080/",
          "height": 357
        },
        "outputId": "b22f4651-6734-400d-da87-b43baa242662"
      },
      "source": [
        "application_df.dtypes"
      ],
      "execution_count": null,
      "outputs": [
        {
          "output_type": "execute_result",
          "data": {
            "text/plain": [
              "Action                    object\n",
              "org:resource              object\n",
              "concept:name              object\n",
              "EventOrigin               object\n",
              "EventID                   object\n",
              "lifecycle:transition      object\n",
              "time:timestamp            object\n",
              "case:LoanGoal             object\n",
              "case:ApplicationType      object\n",
              "case:concept:name         object\n",
              "case:RequestedAmount     float64\n",
              "FirstWithdrawalAmount    float64\n",
              "NumberOfTerms            float64\n",
              "Accepted                  object\n",
              "MonthlyCost              float64\n",
              "Selected                  object\n",
              "CreditScore              float64\n",
              "OfferedAmount            float64\n",
              "OfferID                   object\n",
              "dtype: object"
            ]
          },
          "metadata": {
            "tags": []
          },
          "execution_count": 57
        }
      ]
    },
    {
      "cell_type": "code",
      "metadata": {
        "id": "eYDl8Rgsqdfu",
        "colab_type": "code",
        "colab": {
          "base_uri": "https://localhost:8080/",
          "height": 297
        },
        "outputId": "9fc78692-89e7-487c-a4e1-c17bfad158e1"
      },
      "source": [
        "application_df.describe()"
      ],
      "execution_count": null,
      "outputs": [
        {
          "output_type": "execute_result",
          "data": {
            "text/html": [
              "<div>\n",
              "<style scoped>\n",
              "    .dataframe tbody tr th:only-of-type {\n",
              "        vertical-align: middle;\n",
              "    }\n",
              "\n",
              "    .dataframe tbody tr th {\n",
              "        vertical-align: top;\n",
              "    }\n",
              "\n",
              "    .dataframe thead th {\n",
              "        text-align: right;\n",
              "    }\n",
              "</style>\n",
              "<table border=\"1\" class=\"dataframe\">\n",
              "  <thead>\n",
              "    <tr style=\"text-align: right;\">\n",
              "      <th></th>\n",
              "      <th>case:RequestedAmount</th>\n",
              "      <th>FirstWithdrawalAmount</th>\n",
              "      <th>NumberOfTerms</th>\n",
              "      <th>MonthlyCost</th>\n",
              "      <th>CreditScore</th>\n",
              "      <th>OfferedAmount</th>\n",
              "    </tr>\n",
              "  </thead>\n",
              "  <tbody>\n",
              "    <tr>\n",
              "      <th>count</th>\n",
              "      <td>1.202267e+06</td>\n",
              "      <td>42995.000000</td>\n",
              "      <td>42995.000000</td>\n",
              "      <td>42995.000000</td>\n",
              "      <td>42995.000000</td>\n",
              "      <td>42995.000000</td>\n",
              "    </tr>\n",
              "    <tr>\n",
              "      <th>mean</th>\n",
              "      <td>1.675947e+04</td>\n",
              "      <td>8394.338979</td>\n",
              "      <td>83.041982</td>\n",
              "      <td>281.403309</td>\n",
              "      <td>318.645912</td>\n",
              "      <td>18513.719940</td>\n",
              "    </tr>\n",
              "    <tr>\n",
              "      <th>std</th>\n",
              "      <td>1.572320e+04</td>\n",
              "      <td>10852.443358</td>\n",
              "      <td>36.386199</td>\n",
              "      <td>192.577735</td>\n",
              "      <td>433.706216</td>\n",
              "      <td>13718.507416</td>\n",
              "    </tr>\n",
              "    <tr>\n",
              "      <th>min</th>\n",
              "      <td>0.000000e+00</td>\n",
              "      <td>0.000000</td>\n",
              "      <td>5.000000</td>\n",
              "      <td>43.050000</td>\n",
              "      <td>0.000000</td>\n",
              "      <td>5000.000000</td>\n",
              "    </tr>\n",
              "    <tr>\n",
              "      <th>25%</th>\n",
              "      <td>6.000000e+03</td>\n",
              "      <td>0.000000</td>\n",
              "      <td>56.000000</td>\n",
              "      <td>152.820000</td>\n",
              "      <td>0.000000</td>\n",
              "      <td>8800.000000</td>\n",
              "    </tr>\n",
              "    <tr>\n",
              "      <th>50%</th>\n",
              "      <td>1.400000e+04</td>\n",
              "      <td>5000.000000</td>\n",
              "      <td>77.000000</td>\n",
              "      <td>244.520000</td>\n",
              "      <td>0.000000</td>\n",
              "      <td>15000.000000</td>\n",
              "    </tr>\n",
              "    <tr>\n",
              "      <th>75%</th>\n",
              "      <td>2.300000e+04</td>\n",
              "      <td>12000.000000</td>\n",
              "      <td>120.000000</td>\n",
              "      <td>350.000000</td>\n",
              "      <td>848.000000</td>\n",
              "      <td>25000.000000</td>\n",
              "    </tr>\n",
              "    <tr>\n",
              "      <th>max</th>\n",
              "      <td>4.500000e+05</td>\n",
              "      <td>75000.000000</td>\n",
              "      <td>180.000000</td>\n",
              "      <td>6673.830000</td>\n",
              "      <td>1145.000000</td>\n",
              "      <td>75000.000000</td>\n",
              "    </tr>\n",
              "  </tbody>\n",
              "</table>\n",
              "</div>"
            ],
            "text/plain": [
              "       case:RequestedAmount  FirstWithdrawalAmount  ...   CreditScore  OfferedAmount\n",
              "count          1.202267e+06           42995.000000  ...  42995.000000   42995.000000\n",
              "mean           1.675947e+04            8394.338979  ...    318.645912   18513.719940\n",
              "std            1.572320e+04           10852.443358  ...    433.706216   13718.507416\n",
              "min            0.000000e+00               0.000000  ...      0.000000    5000.000000\n",
              "25%            6.000000e+03               0.000000  ...      0.000000    8800.000000\n",
              "50%            1.400000e+04            5000.000000  ...      0.000000   15000.000000\n",
              "75%            2.300000e+04           12000.000000  ...    848.000000   25000.000000\n",
              "max            4.500000e+05           75000.000000  ...   1145.000000   75000.000000\n",
              "\n",
              "[8 rows x 6 columns]"
            ]
          },
          "metadata": {
            "tags": []
          },
          "execution_count": 58
        }
      ]
    },
    {
      "cell_type": "markdown",
      "metadata": {
        "id": "RxTCRy9erqMB",
        "colab_type": "text"
      },
      "source": [
        "# Análise exploratória dos dados"
      ]
    },
    {
      "cell_type": "markdown",
      "metadata": {
        "id": "CDnluda4sGSR",
        "colab_type": "text"
      },
      "source": [
        "I - Qual o objetivo do pedido de empréstimo (**LoanGoal**) mais comum em cada mês do ano? (Carro, melhora na casa, etc.) "
      ]
    },
    {
      "cell_type": "markdown",
      "metadata": {
        "id": "QhOadmCZ0Lgf",
        "colab_type": "text"
      },
      "source": [
        "Inicialmente, verificando qual o pedido de empréstimo mais comum no geral"
      ]
    },
    {
      "cell_type": "code",
      "metadata": {
        "id": "IiXfPRAA0SE4",
        "colab_type": "code",
        "colab": {
          "base_uri": "https://localhost:8080/",
          "height": 386
        },
        "outputId": "365166a0-1846-4b38-9d25-9926ab256f14"
      },
      "source": [
        "application_df['case:LoanGoal'].value_counts().plot(figsize=(15, 4), kind='bar')"
      ],
      "execution_count": null,
      "outputs": [
        {
          "output_type": "execute_result",
          "data": {
            "text/plain": [
              "<matplotlib.axes._subplots.AxesSubplot at 0x7fd8892d6438>"
            ]
          },
          "metadata": {
            "tags": []
          },
          "execution_count": 59
        },
        {
          "output_type": "display_data",
          "data": {
            "image/png": "[encoded data removed]",
            "text/plain": [
              "<Figure size 1080x288 with 1 Axes>"
            ]
          },
          "metadata": {
            "tags": [],
            "needs_background": "light"
          }
        }
      ]
    },
    {
      "cell_type": "markdown",
      "metadata": {
        "id": "ZxoWQLD10_se",
        "colab_type": "text"
      },
      "source": [
        "Verificando o objetivo de pedido de empréstimo mais comum por mês"
      ]
    },
    {
      "cell_type": "code",
      "metadata": {
        "id": "TZlNm6cV0-3I",
        "colab_type": "code",
        "colab": {
          "base_uri": "https://localhost:8080/",
          "height": 378
        },
        "outputId": "2edd73fa-c8d4-4f44-cf2c-17902e7c9616"
      },
      "source": [
        "copy_df = application_df[['time:timestamp', 'case:LoanGoal']].copy(deep=True)\n",
        "copy_df = copy_df[copy_df['time:timestamp'].str[0:4] != '2017']\n",
        "copy_df['Month'] = copy_df['time:timestamp'].str[5:7].astype('int')\n",
        "\n",
        "grouped_df = copy_df.groupby(['Month', 'case:LoanGoal']).count()\n",
        "grouped_df.rename(columns={'time:timestamp': 'Amount', 'case:LoanGoal': 'LoanGoal'}, inplace=True)\n",
        "grouped_df.sort_values(['Month','Amount'], ascending=False, inplace=True)\n",
        "grouped_df.reset_index(inplace=True)\n",
        "\n",
        "most_commons_loan_goal = grouped_df.groupby('Month').nth((0,1))\n",
        "most_commons_loan_goal = most_commons_loan_goal.reset_index()\n",
        "most_commons_loan_goal['Month'] = most_commons_loan_goal['Month'].map(lambda Month: calendar.month_abbr[Month])\n",
        "\n",
        "sns.catplot(x='Month', y='Amount', hue='case:LoanGoal', hue_order=['Car', 'Home improvement'], data=most_commons_loan_goal, kind='bar', aspect=2)"
      ],
      "execution_count": null,
      "outputs": [
        {
          "output_type": "execute_result",
          "data": {
            "text/plain": [
              "<seaborn.axisgrid.FacetGrid at 0x7fd87c3925c0>"
            ]
          },
          "metadata": {
            "tags": []
          },
          "execution_count": 120
        },
        {
          "output_type": "display_data",
          "data": {
            "image/png": "[encoded data removed]",
            "text/plain": [
              "<Figure size 910.15x360 with 1 Axes>"
            ]
          },
          "metadata": {
            "tags": []
          }
        }
      ]
    },
    {
      "cell_type": "markdown",
      "metadata": {
        "id": "nfN3MmWWsMpb",
        "colab_type": "text"
      },
      "source": [
        "II - Qual a média do valor do empréstimo pra cada um dos objetivos de empréstimo?"
      ]
    },
    {
      "cell_type": "code",
      "metadata": {
        "id": "0wBuIY7Rsodo",
        "colab_type": "code",
        "colab": {
          "base_uri": "https://localhost:8080/",
          "height": 400
        },
        "outputId": "86506e23-fe21-40dc-cdc0-0b73c823d9db"
      },
      "source": [
        "base_media = application_df.groupby([\"case:LoanGoal\"]).mean()[[\"case:RequestedAmount\"]]\n",
        "\n",
        "base_media.plot.bar(figsize=(16, 4), grid=True)"
      ],
      "execution_count": null,
      "outputs": [
        {
          "output_type": "execute_result",
          "data": {
            "text/plain": [
              "<matplotlib.axes._subplots.AxesSubplot at 0x7fd888ecb3c8>"
            ]
          },
          "metadata": {
            "tags": []
          },
          "execution_count": 60
        },
        {
          "output_type": "display_data",
          "data": {
            "image/png": "[encoded data removed]",
            "text/plain": [
              "<Figure size 1152x288 with 1 Axes>"
            ]
          },
          "metadata": {
            "tags": [],
            "needs_background": "light"
          }
        }
      ]
    },
    {
      "cell_type": "markdown",
      "metadata": {
        "id": "abig8p0GxZWg",
        "colab_type": "text"
      },
      "source": [
        "#Análise Preditiva\n",
        "\n",
        "I - Predição do valor da oferta a ser recebida (Regressão Linear Múltipla)"
      ]
    },
    {
      "cell_type": "code",
      "metadata": {
        "id": "557DiNMpqjTP",
        "colab_type": "code",
        "colab": {
          "base_uri": "https://localhost:8080/",
          "height": 654
        },
        "outputId": "9243806f-05ac-4265-d2e4-dc2965fe9553"
      },
      "source": [
        "copy_df = application_df[['case:LoanGoal', 'case:RequestedAmount', 'case:ApplicationType', 'OfferedAmount']].copy(deep=True)\n",
        "copy_df.rename(columns={'case:LoanGoal': 'LoanGoal', 'case:RequestedAmount': 'RequestedAmount', 'case:ApplicationType':'ApplicationType'}, inplace=True)\n",
        "\n",
        "## enconding LoanGoal column\n",
        "encoder = OneHotEncoder()\n",
        "encoded_df_loan_goal = pd.DataFrame(encoder.fit_transform(copy_df[['LoanGoal']]).toarray())\n",
        "encoded_df_loan_goal.columns = encoder.get_feature_names(['LoanGoal'])\n",
        "\n",
        "# enconding ApplicationType column\n",
        "encoded_df_app_type = pd.DataFrame(encoder.fit_transform(copy_df[['ApplicationType']]).toarray())\n",
        "encoded_df_app_type.columns = encoder.get_feature_names(['ApplicationType'])\n",
        "\n",
        "# removing original categorical columns\n",
        "copy_df.drop(['LoanGoal', 'ApplicationType'], axis = 1, inplace = True)\n",
        "\n",
        "# concating the generated DataFrames with the original\n",
        "copy_df = pd.concat([copy_df, encoded_df_loan_goal, encoded_df_app_type], axis = 1)\n",
        "\n",
        "copy_df.dropna(inplace=True)\n",
        "\n",
        "x = copy_df[['RequestedAmount', 'LoanGoal_Boat',\n",
        "       'LoanGoal_Business goal', 'LoanGoal_Car', 'LoanGoal_Caravan / Camper',\n",
        "       'LoanGoal_Debt restructuring', 'LoanGoal_Existing loan takeover',\n",
        "       'LoanGoal_Extra spending limit', 'LoanGoal_Home improvement',\n",
        "       'LoanGoal_Motorcycle', 'LoanGoal_Not speficied',\n",
        "       'LoanGoal_Other, see explanation', 'LoanGoal_Remaining debt home',\n",
        "       'LoanGoal_Tax payments', 'LoanGoal_Unknown',\n",
        "       'ApplicationType_Limit raise', 'ApplicationType_New credit']].values\n",
        "\n",
        "y = copy_df['OfferedAmount'].values\n",
        "\n",
        "plt.figure(figsize=(15,10))\n",
        "plt.tight_layout()\n",
        "sns.distplot(application_df['OfferedAmount'])\n",
        "\n",
        "#splitting data in train and test (70/30)\n",
        "x_train, x_test, y_train, y_test = train_test_split(x, y, test_size=0.3, random_state=0)\n",
        "\n",
        "#training the model\n",
        "regressor = LinearRegression()  \n",
        "regressor.fit(x_train, y_train)\n",
        "\n",
        "#prediction on test data\n",
        "y_pred = regressor.predict(x_test)\n",
        "\n",
        "df = pd.DataFrame({'Actual': y_test, 'Predicted': y_pred})\n",
        "df1 = df.head(25)"
      ],
      "execution_count": null,
      "outputs": [
        {
          "output_type": "display_data",
          "data": {
            "image/png": "[encoded data removed]",
            "text/plain": [
              "<Figure size 1080x720 with 1 Axes>"
            ]
          },
          "metadata": {
            "tags": []
          }
        }
      ]
    },
    {
      "cell_type": "code",
      "metadata": {
        "id": "bZNII5ycymmR",
        "colab_type": "code",
        "colab": {
          "base_uri": "https://localhost:8080/",
          "height": 669
        },
        "outputId": "2b8741a6-ae42-4d48-f678-cb485364bb5d"
      },
      "source": [
        "# Plotting chart with the diff between the predction and actual values\n",
        "df1.plot(kind='bar',figsize=(15,10))\n",
        "plt.grid(which='major', linestyle='-', linewidth='0.5', color='green')\n",
        "plt.grid(which='minor', linestyle=':', linewidth='0.5', color='black')\n",
        "plt.show()\n",
        "\n",
        "# Calculating some metrics\n",
        "print('Mean Absolute Error:', metrics.mean_absolute_error(y_test, y_pred))\n",
        "print('Root Mean Squared Error:', np.sqrt(metrics.mean_squared_error(y_test, y_pred)))"
      ],
      "execution_count": null,
      "outputs": [
        {
          "output_type": "display_data",
          "data": {
            "image/png": "[encoded data removed]",
            "text/plain": [
              "<Figure size 1080x720 with 1 Axes>"
            ]
          },
          "metadata": {
            "tags": []
          }
        },
        {
          "output_type": "stream",
          "text": [
            "Mean Absolute Error: 4649.121115333006\n",
            "Root Mean Squared Error: 9278.063887789107\n"
          ],
          "name": "stdout"
        }
      ]
    },
    {
      "cell_type": "code",
      "metadata": {
        "id": "UKaZfc_95kEN",
        "colab_type": "code",
        "colab": {
          "base_uri": "https://localhost:8080/",
          "height": 824
        },
        "outputId": "ab174d23-b288-4ae6-9898-5b9f4bf2ac2a"
      },
      "source": [
        "df1"
      ],
      "execution_count": null,
      "outputs": [
        {
          "output_type": "execute_result",
          "data": {
            "text/html": [
              "<div>\n",
              "<style scoped>\n",
              "    .dataframe tbody tr th:only-of-type {\n",
              "        vertical-align: middle;\n",
              "    }\n",
              "\n",
              "    .dataframe tbody tr th {\n",
              "        vertical-align: top;\n",
              "    }\n",
              "\n",
              "    .dataframe thead th {\n",
              "        text-align: right;\n",
              "    }\n",
              "</style>\n",
              "<table border=\"1\" class=\"dataframe\">\n",
              "  <thead>\n",
              "    <tr style=\"text-align: right;\">\n",
              "      <th></th>\n",
              "      <th>Actual</th>\n",
              "      <th>Predicted</th>\n",
              "    </tr>\n",
              "  </thead>\n",
              "  <tbody>\n",
              "    <tr>\n",
              "      <th>0</th>\n",
              "      <td>5000.0</td>\n",
              "      <td>9024.068621</td>\n",
              "    </tr>\n",
              "    <tr>\n",
              "      <th>1</th>\n",
              "      <td>50000.0</td>\n",
              "      <td>42929.975440</td>\n",
              "    </tr>\n",
              "    <tr>\n",
              "      <th>2</th>\n",
              "      <td>15000.0</td>\n",
              "      <td>16236.823018</td>\n",
              "    </tr>\n",
              "    <tr>\n",
              "      <th>3</th>\n",
              "      <td>55000.0</td>\n",
              "      <td>47243.401262</td>\n",
              "    </tr>\n",
              "    <tr>\n",
              "      <th>4</th>\n",
              "      <td>6000.0</td>\n",
              "      <td>9747.548999</td>\n",
              "    </tr>\n",
              "    <tr>\n",
              "      <th>5</th>\n",
              "      <td>15000.0</td>\n",
              "      <td>17608.162207</td>\n",
              "    </tr>\n",
              "    <tr>\n",
              "      <th>6</th>\n",
              "      <td>40000.0</td>\n",
              "      <td>35695.171659</td>\n",
              "    </tr>\n",
              "    <tr>\n",
              "      <th>7</th>\n",
              "      <td>25000.0</td>\n",
              "      <td>33886.470714</td>\n",
              "    </tr>\n",
              "    <tr>\n",
              "      <th>8</th>\n",
              "      <td>16000.0</td>\n",
              "      <td>15648.913463</td>\n",
              "    </tr>\n",
              "    <tr>\n",
              "      <th>9</th>\n",
              "      <td>20000.0</td>\n",
              "      <td>18542.834975</td>\n",
              "    </tr>\n",
              "    <tr>\n",
              "      <th>10</th>\n",
              "      <td>5000.0</td>\n",
              "      <td>9002.019237</td>\n",
              "    </tr>\n",
              "    <tr>\n",
              "      <th>11</th>\n",
              "      <td>5500.0</td>\n",
              "      <td>10373.358426</td>\n",
              "    </tr>\n",
              "    <tr>\n",
              "      <th>12</th>\n",
              "      <td>6000.0</td>\n",
              "      <td>9725.499615</td>\n",
              "    </tr>\n",
              "    <tr>\n",
              "      <th>13</th>\n",
              "      <td>11000.0</td>\n",
              "      <td>12031.511572</td>\n",
              "    </tr>\n",
              "    <tr>\n",
              "      <th>14</th>\n",
              "      <td>27000.0</td>\n",
              "      <td>7300.103478</td>\n",
              "    </tr>\n",
              "    <tr>\n",
              "      <th>15</th>\n",
              "      <td>5000.0</td>\n",
              "      <td>7690.629304</td>\n",
              "    </tr>\n",
              "    <tr>\n",
              "      <th>16</th>\n",
              "      <td>10000.0</td>\n",
              "      <td>14686.784248</td>\n",
              "    </tr>\n",
              "    <tr>\n",
              "      <th>17</th>\n",
              "      <td>15000.0</td>\n",
              "      <td>12619.421128</td>\n",
              "    </tr>\n",
              "    <tr>\n",
              "      <th>18</th>\n",
              "      <td>10000.0</td>\n",
              "      <td>13990.760317</td>\n",
              "    </tr>\n",
              "    <tr>\n",
              "      <th>19</th>\n",
              "      <td>20000.0</td>\n",
              "      <td>18542.834975</td>\n",
              "    </tr>\n",
              "    <tr>\n",
              "      <th>20</th>\n",
              "      <td>30000.0</td>\n",
              "      <td>28868.943998</td>\n",
              "    </tr>\n",
              "    <tr>\n",
              "      <th>21</th>\n",
              "      <td>5600.0</td>\n",
              "      <td>9436.107464</td>\n",
              "    </tr>\n",
              "    <tr>\n",
              "      <th>22</th>\n",
              "      <td>5000.0</td>\n",
              "      <td>9024.068621</td>\n",
              "    </tr>\n",
              "    <tr>\n",
              "      <th>23</th>\n",
              "      <td>23000.0</td>\n",
              "      <td>24195.107177</td>\n",
              "    </tr>\n",
              "    <tr>\n",
              "      <th>24</th>\n",
              "      <td>15000.0</td>\n",
              "      <td>14925.433085</td>\n",
              "    </tr>\n",
              "  </tbody>\n",
              "</table>\n",
              "</div>"
            ],
            "text/plain": [
              "     Actual     Predicted\n",
              "0    5000.0   9024.068621\n",
              "1   50000.0  42929.975440\n",
              "2   15000.0  16236.823018\n",
              "3   55000.0  47243.401262\n",
              "4    6000.0   9747.548999\n",
              "5   15000.0  17608.162207\n",
              "6   40000.0  35695.171659\n",
              "7   25000.0  33886.470714\n",
              "8   16000.0  15648.913463\n",
              "9   20000.0  18542.834975\n",
              "10   5000.0   9002.019237\n",
              "11   5500.0  10373.358426\n",
              "12   6000.0   9725.499615\n",
              "13  11000.0  12031.511572\n",
              "14  27000.0   7300.103478\n",
              "15   5000.0   7690.629304\n",
              "16  10000.0  14686.784248\n",
              "17  15000.0  12619.421128\n",
              "18  10000.0  13990.760317\n",
              "19  20000.0  18542.834975\n",
              "20  30000.0  28868.943998\n",
              "21   5600.0   9436.107464\n",
              "22   5000.0   9024.068621\n",
              "23  23000.0  24195.107177\n",
              "24  15000.0  14925.433085"
            ]
          },
          "metadata": {
            "tags": []
          },
          "execution_count": 65
        }
      ]
    },
    {
      "cell_type": "markdown",
      "metadata": {
        "id": "geGkO2m2MX2m",
        "colab_type": "text"
      },
      "source": [
        "II - Predizer quais aplicações vão receber uma oferta (Classificação) "
      ]
    },
    {
      "cell_type": "code",
      "metadata": {
        "id": "MIApt79kNg1J",
        "colab_type": "code",
        "colab": {
          "base_uri": "https://localhost:8080/",
          "height": 609
        },
        "outputId": "f7594f49-687e-46d7-8734-1b53e16f30e4"
      },
      "source": [
        "# getting the registers of applications that contain A_Pending in their event log \n",
        "accepted_loans = application_df[application_df['concept:name'] == 'A_Pending']\n",
        "accpeteds_application_names = accepted_loans['case:concept:name'].unique()\n",
        "\n",
        "# creating new column indicating if the application loan was successfull or not\n",
        "application_df['AcceptedLoan'] = application_df['case:concept:name'].isin(accpeteds_application_names).astype(int)\n",
        "application_df"
      ],
      "execution_count": null,
      "outputs": [
        {
          "output_type": "execute_result",
          "data": {
            "text/html": [
              "<div>\n",
              "<style scoped>\n",
              "    .dataframe tbody tr th:only-of-type {\n",
              "        vertical-align: middle;\n",
              "    }\n",
              "\n",
              "    .dataframe tbody tr th {\n",
              "        vertical-align: top;\n",
              "    }\n",
              "\n",
              "    .dataframe thead th {\n",
              "        text-align: right;\n",
              "    }\n",
              "</style>\n",
              "<table border=\"1\" class=\"dataframe\">\n",
              "  <thead>\n",
              "    <tr style=\"text-align: right;\">\n",
              "      <th></th>\n",
              "      <th>Action</th>\n",
              "      <th>org:resource</th>\n",
              "      <th>concept:name</th>\n",
              "      <th>EventOrigin</th>\n",
              "      <th>EventID</th>\n",
              "      <th>lifecycle:transition</th>\n",
              "      <th>time:timestamp</th>\n",
              "      <th>case:LoanGoal</th>\n",
              "      <th>case:ApplicationType</th>\n",
              "      <th>case:concept:name</th>\n",
              "      <th>case:RequestedAmount</th>\n",
              "      <th>FirstWithdrawalAmount</th>\n",
              "      <th>NumberOfTerms</th>\n",
              "      <th>Accepted</th>\n",
              "      <th>MonthlyCost</th>\n",
              "      <th>Selected</th>\n",
              "      <th>CreditScore</th>\n",
              "      <th>OfferedAmount</th>\n",
              "      <th>OfferID</th>\n",
              "      <th>AcceptedLoan</th>\n",
              "    </tr>\n",
              "  </thead>\n",
              "  <tbody>\n",
              "    <tr>\n",
              "      <th>0</th>\n",
              "      <td>Created</td>\n",
              "      <td>User_1</td>\n",
              "      <td>A_Create Application</td>\n",
              "      <td>Application</td>\n",
              "      <td>Application_652823628</td>\n",
              "      <td>complete</td>\n",
              "      <td>2016-01-01 09:51:15.304000+00:00</td>\n",
              "      <td>Existing loan takeover</td>\n",
              "      <td>New credit</td>\n",
              "      <td>Application_652823628</td>\n",
              "      <td>20000.0</td>\n",
              "      <td>NaN</td>\n",
              "      <td>NaN</td>\n",
              "      <td>NaN</td>\n",
              "      <td>NaN</td>\n",
              "      <td>NaN</td>\n",
              "      <td>NaN</td>\n",
              "      <td>NaN</td>\n",
              "      <td>NaN</td>\n",
              "      <td>1</td>\n",
              "    </tr>\n",
              "    <tr>\n",
              "      <th>1</th>\n",
              "      <td>statechange</td>\n",
              "      <td>User_1</td>\n",
              "      <td>A_Submitted</td>\n",
              "      <td>Application</td>\n",
              "      <td>ApplState_1582051990</td>\n",
              "      <td>complete</td>\n",
              "      <td>2016-01-01 09:51:15.352000+00:00</td>\n",
              "      <td>Existing loan takeover</td>\n",
              "      <td>New credit</td>\n",
              "      <td>Application_652823628</td>\n",
              "      <td>20000.0</td>\n",
              "      <td>NaN</td>\n",
              "      <td>NaN</td>\n",
              "      <td>NaN</td>\n",
              "      <td>NaN</td>\n",
              "      <td>NaN</td>\n",
              "      <td>NaN</td>\n",
              "      <td>NaN</td>\n",
              "      <td>NaN</td>\n",
              "      <td>1</td>\n",
              "    </tr>\n",
              "    <tr>\n",
              "      <th>2</th>\n",
              "      <td>Created</td>\n",
              "      <td>User_1</td>\n",
              "      <td>W_Handle leads</td>\n",
              "      <td>Workflow</td>\n",
              "      <td>Workitem_1298499574</td>\n",
              "      <td>schedule</td>\n",
              "      <td>2016-01-01 09:51:15.774000+00:00</td>\n",
              "      <td>Existing loan takeover</td>\n",
              "      <td>New credit</td>\n",
              "      <td>Application_652823628</td>\n",
              "      <td>20000.0</td>\n",
              "      <td>NaN</td>\n",
              "      <td>NaN</td>\n",
              "      <td>NaN</td>\n",
              "      <td>NaN</td>\n",
              "      <td>NaN</td>\n",
              "      <td>NaN</td>\n",
              "      <td>NaN</td>\n",
              "      <td>NaN</td>\n",
              "      <td>1</td>\n",
              "    </tr>\n",
              "    <tr>\n",
              "      <th>3</th>\n",
              "      <td>Deleted</td>\n",
              "      <td>User_1</td>\n",
              "      <td>W_Handle leads</td>\n",
              "      <td>Workflow</td>\n",
              "      <td>Workitem_1673366067</td>\n",
              "      <td>withdraw</td>\n",
              "      <td>2016-01-01 09:52:36.392000+00:00</td>\n",
              "      <td>Existing loan takeover</td>\n",
              "      <td>New credit</td>\n",
              "      <td>Application_652823628</td>\n",
              "      <td>20000.0</td>\n",
              "      <td>NaN</td>\n",
              "      <td>NaN</td>\n",
              "      <td>NaN</td>\n",
              "      <td>NaN</td>\n",
              "      <td>NaN</td>\n",
              "      <td>NaN</td>\n",
              "      <td>NaN</td>\n",
              "      <td>NaN</td>\n",
              "      <td>1</td>\n",
              "    </tr>\n",
              "    <tr>\n",
              "      <th>4</th>\n",
              "      <td>Created</td>\n",
              "      <td>User_1</td>\n",
              "      <td>W_Complete application</td>\n",
              "      <td>Workflow</td>\n",
              "      <td>Workitem_1493664571</td>\n",
              "      <td>schedule</td>\n",
              "      <td>2016-01-01 09:52:36.403000+00:00</td>\n",
              "      <td>Existing loan takeover</td>\n",
              "      <td>New credit</td>\n",
              "      <td>Application_652823628</td>\n",
              "      <td>20000.0</td>\n",
              "      <td>NaN</td>\n",
              "      <td>NaN</td>\n",
              "      <td>NaN</td>\n",
              "      <td>NaN</td>\n",
              "      <td>NaN</td>\n",
              "      <td>NaN</td>\n",
              "      <td>NaN</td>\n",
              "      <td>NaN</td>\n",
              "      <td>1</td>\n",
              "    </tr>\n",
              "    <tr>\n",
              "      <th>...</th>\n",
              "      <td>...</td>\n",
              "      <td>...</td>\n",
              "      <td>...</td>\n",
              "      <td>...</td>\n",
              "      <td>...</td>\n",
              "      <td>...</td>\n",
              "      <td>...</td>\n",
              "      <td>...</td>\n",
              "      <td>...</td>\n",
              "      <td>...</td>\n",
              "      <td>...</td>\n",
              "      <td>...</td>\n",
              "      <td>...</td>\n",
              "      <td>...</td>\n",
              "      <td>...</td>\n",
              "      <td>...</td>\n",
              "      <td>...</td>\n",
              "      <td>...</td>\n",
              "      <td>...</td>\n",
              "      <td>...</td>\n",
              "    </tr>\n",
              "    <tr>\n",
              "      <th>1202262</th>\n",
              "      <td>Deleted</td>\n",
              "      <td>User_1</td>\n",
              "      <td>W_Call after offers</td>\n",
              "      <td>Workflow</td>\n",
              "      <td>Workitem_1817549786</td>\n",
              "      <td>ate_abort</td>\n",
              "      <td>2017-01-06 06:33:02.212000+00:00</td>\n",
              "      <td>Home improvement</td>\n",
              "      <td>New credit</td>\n",
              "      <td>Application_1350494635</td>\n",
              "      <td>20000.0</td>\n",
              "      <td>NaN</td>\n",
              "      <td>NaN</td>\n",
              "      <td>NaN</td>\n",
              "      <td>NaN</td>\n",
              "      <td>NaN</td>\n",
              "      <td>NaN</td>\n",
              "      <td>NaN</td>\n",
              "      <td>NaN</td>\n",
              "      <td>0</td>\n",
              "    </tr>\n",
              "    <tr>\n",
              "      <th>1202263</th>\n",
              "      <td>Created</td>\n",
              "      <td>User_1</td>\n",
              "      <td>W_Call after offers</td>\n",
              "      <td>Workflow</td>\n",
              "      <td>Workitem_363876066</td>\n",
              "      <td>schedule</td>\n",
              "      <td>2017-01-06 06:33:02.221000+00:00</td>\n",
              "      <td>Home improvement</td>\n",
              "      <td>New credit</td>\n",
              "      <td>Application_1350494635</td>\n",
              "      <td>20000.0</td>\n",
              "      <td>NaN</td>\n",
              "      <td>NaN</td>\n",
              "      <td>NaN</td>\n",
              "      <td>NaN</td>\n",
              "      <td>NaN</td>\n",
              "      <td>NaN</td>\n",
              "      <td>NaN</td>\n",
              "      <td>NaN</td>\n",
              "      <td>0</td>\n",
              "    </tr>\n",
              "    <tr>\n",
              "      <th>1202264</th>\n",
              "      <td>statechange</td>\n",
              "      <td>User_28</td>\n",
              "      <td>A_Cancelled</td>\n",
              "      <td>Application</td>\n",
              "      <td>ApplState_1869071797</td>\n",
              "      <td>complete</td>\n",
              "      <td>2017-01-16 09:51:21.114000+00:00</td>\n",
              "      <td>Home improvement</td>\n",
              "      <td>New credit</td>\n",
              "      <td>Application_1350494635</td>\n",
              "      <td>20000.0</td>\n",
              "      <td>NaN</td>\n",
              "      <td>NaN</td>\n",
              "      <td>NaN</td>\n",
              "      <td>NaN</td>\n",
              "      <td>NaN</td>\n",
              "      <td>NaN</td>\n",
              "      <td>NaN</td>\n",
              "      <td>NaN</td>\n",
              "      <td>0</td>\n",
              "    </tr>\n",
              "    <tr>\n",
              "      <th>1202265</th>\n",
              "      <td>statechange</td>\n",
              "      <td>User_28</td>\n",
              "      <td>O_Cancelled</td>\n",
              "      <td>Offer</td>\n",
              "      <td>OfferState_420066181</td>\n",
              "      <td>complete</td>\n",
              "      <td>2017-01-16 09:51:21.139000+00:00</td>\n",
              "      <td>Home improvement</td>\n",
              "      <td>New credit</td>\n",
              "      <td>Application_1350494635</td>\n",
              "      <td>20000.0</td>\n",
              "      <td>NaN</td>\n",
              "      <td>NaN</td>\n",
              "      <td>NaN</td>\n",
              "      <td>NaN</td>\n",
              "      <td>NaN</td>\n",
              "      <td>NaN</td>\n",
              "      <td>NaN</td>\n",
              "      <td>Offer_1580299144</td>\n",
              "      <td>0</td>\n",
              "    </tr>\n",
              "    <tr>\n",
              "      <th>1202266</th>\n",
              "      <td>Deleted</td>\n",
              "      <td>User_28</td>\n",
              "      <td>W_Call after offers</td>\n",
              "      <td>Workflow</td>\n",
              "      <td>Workitem_1934044935</td>\n",
              "      <td>withdraw</td>\n",
              "      <td>2017-01-16 09:51:21.146000+00:00</td>\n",
              "      <td>Home improvement</td>\n",
              "      <td>New credit</td>\n",
              "      <td>Application_1350494635</td>\n",
              "      <td>20000.0</td>\n",
              "      <td>NaN</td>\n",
              "      <td>NaN</td>\n",
              "      <td>NaN</td>\n",
              "      <td>NaN</td>\n",
              "      <td>NaN</td>\n",
              "      <td>NaN</td>\n",
              "      <td>NaN</td>\n",
              "      <td>NaN</td>\n",
              "      <td>0</td>\n",
              "    </tr>\n",
              "  </tbody>\n",
              "</table>\n",
              "<p>1202267 rows × 20 columns</p>\n",
              "</div>"
            ],
            "text/plain": [
              "              Action org:resource  ...           OfferID AcceptedLoan\n",
              "0            Created       User_1  ...               NaN            1\n",
              "1        statechange       User_1  ...               NaN            1\n",
              "2            Created       User_1  ...               NaN            1\n",
              "3            Deleted       User_1  ...               NaN            1\n",
              "4            Created       User_1  ...               NaN            1\n",
              "...              ...          ...  ...               ...          ...\n",
              "1202262      Deleted       User_1  ...               NaN            0\n",
              "1202263      Created       User_1  ...               NaN            0\n",
              "1202264  statechange      User_28  ...               NaN            0\n",
              "1202265  statechange      User_28  ...  Offer_1580299144            0\n",
              "1202266      Deleted      User_28  ...               NaN            0\n",
              "\n",
              "[1202267 rows x 20 columns]"
            ]
          },
          "metadata": {
            "tags": []
          },
          "execution_count": 126
        }
      ]
    },
    {
      "cell_type": "code",
      "metadata": {
        "id": "MYeKyKbKriMz",
        "colab_type": "code",
        "colab": {}
      },
      "source": [
        ""
      ],
      "execution_count": null,
      "outputs": []
    },
    {
      "cell_type": "code",
      "metadata": {
        "id": "-QwpeGAgcab1",
        "colab_type": "code",
        "colab": {
          "base_uri": "https://localhost:8080/",
          "height": 419
        },
        "outputId": "cde604b1-8493-42e2-ac99-246f0f4abd1d"
      },
      "source": [
        "copy_df = application_df[['case:RequestedAmount', 'case:LoanGoal', 'case:ApplicationType', 'AcceptedLoan', 'Selected', 'Accepted', 'CreditScore']].copy(deep=True)\n",
        "\n",
        "copy_df.dropna(inplace=True)\n",
        "\n",
        "copy_df.drop_duplicates(inplace=True)\n",
        "\n",
        "x = copy_df[['case:RequestedAmount', 'CreditScore']].values\n",
        "y = copy_df['AcceptedLoan'].values\n",
        "\n",
        "copy_df"
      ],
      "execution_count": null,
      "outputs": [
        {
          "output_type": "execute_result",
          "data": {
            "text/html": [
              "<div>\n",
              "<style scoped>\n",
              "    .dataframe tbody tr th:only-of-type {\n",
              "        vertical-align: middle;\n",
              "    }\n",
              "\n",
              "    .dataframe tbody tr th {\n",
              "        vertical-align: top;\n",
              "    }\n",
              "\n",
              "    .dataframe thead th {\n",
              "        text-align: right;\n",
              "    }\n",
              "</style>\n",
              "<table border=\"1\" class=\"dataframe\">\n",
              "  <thead>\n",
              "    <tr style=\"text-align: right;\">\n",
              "      <th></th>\n",
              "      <th>case:RequestedAmount</th>\n",
              "      <th>case:LoanGoal</th>\n",
              "      <th>case:ApplicationType</th>\n",
              "      <th>AcceptedLoan</th>\n",
              "      <th>Selected</th>\n",
              "      <th>Accepted</th>\n",
              "      <th>CreditScore</th>\n",
              "    </tr>\n",
              "  </thead>\n",
              "  <tbody>\n",
              "    <tr>\n",
              "      <th>9</th>\n",
              "      <td>20000.0</td>\n",
              "      <td>Existing loan takeover</td>\n",
              "      <td>New credit</td>\n",
              "      <td>1</td>\n",
              "      <td>True</td>\n",
              "      <td>True</td>\n",
              "      <td>979.0</td>\n",
              "    </tr>\n",
              "    <tr>\n",
              "      <th>50</th>\n",
              "      <td>10000.0</td>\n",
              "      <td>Home improvement</td>\n",
              "      <td>New credit</td>\n",
              "      <td>0</td>\n",
              "      <td>False</td>\n",
              "      <td>False</td>\n",
              "      <td>0.0</td>\n",
              "    </tr>\n",
              "    <tr>\n",
              "      <th>79</th>\n",
              "      <td>15000.0</td>\n",
              "      <td>Home improvement</td>\n",
              "      <td>New credit</td>\n",
              "      <td>1</td>\n",
              "      <td>False</td>\n",
              "      <td>True</td>\n",
              "      <td>0.0</td>\n",
              "    </tr>\n",
              "    <tr>\n",
              "      <th>87</th>\n",
              "      <td>15000.0</td>\n",
              "      <td>Home improvement</td>\n",
              "      <td>New credit</td>\n",
              "      <td>1</td>\n",
              "      <td>True</td>\n",
              "      <td>True</td>\n",
              "      <td>1059.0</td>\n",
              "    </tr>\n",
              "    <tr>\n",
              "      <th>135</th>\n",
              "      <td>5000.0</td>\n",
              "      <td>Car</td>\n",
              "      <td>New credit</td>\n",
              "      <td>1</td>\n",
              "      <td>False</td>\n",
              "      <td>False</td>\n",
              "      <td>0.0</td>\n",
              "    </tr>\n",
              "    <tr>\n",
              "      <th>...</th>\n",
              "      <td>...</td>\n",
              "      <td>...</td>\n",
              "      <td>...</td>\n",
              "      <td>...</td>\n",
              "      <td>...</td>\n",
              "      <td>...</td>\n",
              "      <td>...</td>\n",
              "    </tr>\n",
              "    <tr>\n",
              "      <th>1201901</th>\n",
              "      <td>25000.0</td>\n",
              "      <td>Not speficied</td>\n",
              "      <td>New credit</td>\n",
              "      <td>1</td>\n",
              "      <td>True</td>\n",
              "      <td>True</td>\n",
              "      <td>903.0</td>\n",
              "    </tr>\n",
              "    <tr>\n",
              "      <th>1202007</th>\n",
              "      <td>16000.0</td>\n",
              "      <td>Car</td>\n",
              "      <td>New credit</td>\n",
              "      <td>1</td>\n",
              "      <td>True</td>\n",
              "      <td>True</td>\n",
              "      <td>941.0</td>\n",
              "    </tr>\n",
              "    <tr>\n",
              "      <th>1202075</th>\n",
              "      <td>5000.0</td>\n",
              "      <td>Car</td>\n",
              "      <td>New credit</td>\n",
              "      <td>1</td>\n",
              "      <td>True</td>\n",
              "      <td>True</td>\n",
              "      <td>852.0</td>\n",
              "    </tr>\n",
              "    <tr>\n",
              "      <th>1202148</th>\n",
              "      <td>10000.0</td>\n",
              "      <td>Home improvement</td>\n",
              "      <td>New credit</td>\n",
              "      <td>1</td>\n",
              "      <td>True</td>\n",
              "      <td>True</td>\n",
              "      <td>854.0</td>\n",
              "    </tr>\n",
              "    <tr>\n",
              "      <th>1202202</th>\n",
              "      <td>30000.0</td>\n",
              "      <td>Car</td>\n",
              "      <td>New credit</td>\n",
              "      <td>1</td>\n",
              "      <td>True</td>\n",
              "      <td>True</td>\n",
              "      <td>996.0</td>\n",
              "    </tr>\n",
              "  </tbody>\n",
              "</table>\n",
              "<p>16620 rows × 7 columns</p>\n",
              "</div>"
            ],
            "text/plain": [
              "         case:RequestedAmount           case:LoanGoal  ... Accepted  CreditScore\n",
              "9                     20000.0  Existing loan takeover  ...     True        979.0\n",
              "50                    10000.0        Home improvement  ...    False          0.0\n",
              "79                    15000.0        Home improvement  ...     True          0.0\n",
              "87                    15000.0        Home improvement  ...     True       1059.0\n",
              "135                    5000.0                     Car  ...    False          0.0\n",
              "...                       ...                     ...  ...      ...          ...\n",
              "1201901               25000.0           Not speficied  ...     True        903.0\n",
              "1202007               16000.0                     Car  ...     True        941.0\n",
              "1202075                5000.0                     Car  ...     True        852.0\n",
              "1202148               10000.0        Home improvement  ...     True        854.0\n",
              "1202202               30000.0                     Car  ...     True        996.0\n",
              "\n",
              "[16620 rows x 7 columns]"
            ]
          },
          "metadata": {
            "tags": []
          },
          "execution_count": 134
        }
      ]
    },
    {
      "cell_type": "code",
      "metadata": {
        "id": "lPyLt9cnccN6",
        "colab_type": "code",
        "colab": {}
      },
      "source": [
        "#splitting data in train and test sets (70/30)\n",
        "x_train, x_test, y_train, y_test = train_test_split(x, y, test_size=0.3)"
      ],
      "execution_count": null,
      "outputs": []
    },
    {
      "cell_type": "code",
      "metadata": {
        "id": "wHUWyTwtsVZ3",
        "colab_type": "code",
        "colab": {
          "base_uri": "https://localhost:8080/",
          "height": 51
        },
        "outputId": "33b90da1-f02e-409e-efcb-ce1ecd653141"
      },
      "source": [
        "clf = RandomForestClassifier(n_estimators=100, random_state=0)\n",
        "\n",
        "#Train the model using \n",
        "clf.fit(x_train,y_train)\n",
        "\n",
        "y_pred=clf.predict(x_test)\n",
        "\n",
        "print('Accuracy on training set: {:.2f}'.format(clf.score(x_train, y_train)))\n",
        "print('Accuracy on test set: {:.2f}'.format(clf.score(x_test, y_test)))\n"
      ],
      "execution_count": null,
      "outputs": [
        {
          "output_type": "stream",
          "text": [
            "Accuracy on training set: 0.91\n",
            "Accuracy on test set: 0.88\n"
          ],
          "name": "stdout"
        }
      ]
    },
    {
      "cell_type": "code",
      "metadata": {
        "id": "s0oi0Cx7ju57",
        "colab_type": "code",
        "colab": {}
      },
      "source": [
        "from sklearn.metrics import average_precision_score\n",
        "average_precision = average_precision_score(y_test, y_score)\n",
        "\n",
        "print('Average precision-recall score: {0:0.2f}'.format(\n",
        "      average_precision))"
      ],
      "execution_count": null,
      "outputs": []
    },
    {
      "cell_type": "code",
      "metadata": {
        "id": "7-1Y74vOtH3d",
        "colab_type": "code",
        "colab": {
          "base_uri": "https://localhost:8080/",
          "height": 342
        },
        "outputId": "9d977000-0f50-4075-e442-e1f2e2c1aaa4"
      },
      "source": [
        "feature_list = ['RequestedAmount', 'CreditScore']\n",
        "feature_imp = pd.Series(clf.feature_importances_,index=feature_list)\n",
        "\n",
        "plt.style.use('fivethirtyeight')\n",
        "x_values = list(range(len(feature_imp)))\n",
        "plt.bar(x_values, feature_imp, orientation = 'vertical')\n",
        "plt.xticks(x_values, feature_list)\n",
        "\n",
        "plt.ylabel('Importance'); plt.xlabel('Feature'); plt.title('Feature Importances')"
      ],
      "execution_count": null,
      "outputs": [
        {
          "output_type": "execute_result",
          "data": {
            "text/plain": [
              "Text(0.5, 1.0, 'Feature Importances')"
            ]
          },
          "metadata": {
            "tags": []
          },
          "execution_count": 119
        },
        {
          "output_type": "display_data",
          "data": {
            "image/png": "[encoded data removed]",
            "text/plain": [
              "<Figure size 432x288 with 1 Axes>"
            ]
          },
          "metadata": {
            "tags": []
          }
        }
      ]
    },
    {
      "cell_type": "code",
      "metadata": {
        "id": "hVG-eatTuD5i",
        "colab_type": "code",
        "colab": {}
      },
      "source": [
        ""
      ],
      "execution_count": null,
      "outputs": []
    }
  ]
}